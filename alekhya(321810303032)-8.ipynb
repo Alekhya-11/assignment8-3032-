{
 "cells": [
  {
   "cell_type": "markdown",
   "metadata": {},
   "source": [
    "### 1.Write a Python program to get a single string from two given strings, separated by a space and swap the first two characters of each string\n",
    "\n"
   ]
  },
  {
   "cell_type": "code",
   "execution_count": 2,
   "metadata": {},
   "outputs": [
    {
     "name": "stdout",
     "output_type": "stream",
     "text": [
      "enter the a string:hi\n",
      "enter the b string:anu\n",
      "an hiu\n"
     ]
    }
   ],
   "source": [
    "def chars(a, b):\n",
    "  newa = b[:2] + a[2:]\n",
    "  newb = a[:2] + b[2:]\n",
    "  return newa + ' ' + newb\n",
    "a=input(\"enter the a string:\")\n",
    "b=input(\"enter the b string:\")\n",
    "print(chars(a,b))"
   ]
  },
  {
   "cell_type": "markdown",
   "metadata": {},
   "source": [
    "### 2.Write a Python program to remove a new line in Python."
   ]
  },
  {
   "cell_type": "code",
   "execution_count": 4,
   "metadata": {},
   "outputs": [
    {
     "name": "stdout",
     "output_type": "stream",
     "text": [
      "hi good morning \n",
      "\n",
      "hi good morning\n"
     ]
    }
   ],
   "source": [
    "str1='hi good morning \\n'\n",
    "print(str1)\n",
    "print(str1.rstrip())"
   ]
  },
  {
   "cell_type": "markdown",
   "metadata": {},
   "source": [
    "### 3.Write a Python program to perform Deletion of a character."
   ]
  },
  {
   "cell_type": "code",
   "execution_count": 5,
   "metadata": {},
   "outputs": [
    {
     "name": "stdout",
     "output_type": "stream",
     "text": [
      "enter the string:hai\n",
      "hi\n"
     ]
    }
   ],
   "source": [
    "s = input(\"enter the string:\")\n",
    "\n",
    "print(s.replace('a', ''))"
   ]
  },
  {
   "cell_type": "markdown",
   "metadata": {},
   "source": [
    "### 4.Write a program to print every character of a string entered by user in a new line using loop"
   ]
  },
  {
   "cell_type": "code",
   "execution_count": 6,
   "metadata": {},
   "outputs": [
    {
     "name": "stdout",
     "output_type": "stream",
     "text": [
      "enter the string:ALEKHYA\n",
      "A\n",
      "L\n",
      "E\n",
      "K\n",
      "H\n",
      "Y\n",
      "A\n"
     ]
    }
   ],
   "source": [
    "a=input(\"enter the string:\")\n",
    "for i in a :\n",
    "    print(i)"
   ]
  },
  {
   "cell_type": "code",
   "execution_count": null,
   "metadata": {},
   "outputs": [],
   "source": []
  }
 ],
 "metadata": {
  "kernelspec": {
   "display_name": "Python 3",
   "language": "python",
   "name": "python3"
  },
  "language_info": {
   "codemirror_mode": {
    "name": "ipython",
    "version": 3
   },
   "file_extension": ".py",
   "mimetype": "text/x-python",
   "name": "python",
   "nbconvert_exporter": "python",
   "pygments_lexer": "ipython3",
   "version": "3.7.4"
  }
 },
 "nbformat": 4,
 "nbformat_minor": 2
}
